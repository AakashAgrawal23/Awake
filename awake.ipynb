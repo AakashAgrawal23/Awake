{
 "cells": [
  {
   "cell_type": "code",
   "execution_count": null,
   "id": "0d69ea16",
   "metadata": {},
   "outputs": [],
   "source": [
    "def mouse_mover(x = 1): #Default = 1 minute\n",
    "    \n",
    "    import datetime\n",
    "    import pyautogui\n",
    "\n",
    "\n",
    "    current_time = datetime.datetime.now()\n",
    "    time_change = datetime.timedelta(minutes = x)\n",
    "    stop_time = current_time + time_change\n",
    "    \n",
    "    while(datetime.datetime.now()<stop_time):\n",
    "        pyautogui.moveTo(100, 150)\n",
    "        pyautogui.moveTo(100, 160)\n",
    "        pyautogui.moveTo(1000, 1600)\n",
    "        pyautogui.moveTo(10, 160)\n",
    "        \n",
    "    return print(\"Busy for {} minutes\".format(x))"
   ]
  },
  {
   "cell_type": "code",
   "execution_count": null,
   "id": "0ddf9cd5",
   "metadata": {
    "scrolled": true
   },
   "outputs": [],
   "source": [
    "mouse_mover(5)"
   ]
  },
  {
   "cell_type": "code",
   "execution_count": null,
   "id": "897c2c9b",
   "metadata": {},
   "outputs": [],
   "source": []
  },
  {
   "cell_type": "code",
   "execution_count": null,
   "id": "b8036ffe",
   "metadata": {},
   "outputs": [],
   "source": []
  },
  {
   "cell_type": "code",
   "execution_count": null,
   "id": "364e0e69",
   "metadata": {},
   "outputs": [],
   "source": []
  },
  {
   "cell_type": "code",
   "execution_count": null,
   "id": "89fa8d30",
   "metadata": {},
   "outputs": [],
   "source": []
  },
  {
   "cell_type": "code",
   "execution_count": null,
   "id": "f0797e11",
   "metadata": {},
   "outputs": [],
   "source": []
  },
  {
   "cell_type": "code",
   "execution_count": null,
   "id": "77b39fbb",
   "metadata": {},
   "outputs": [],
   "source": []
  },
  {
   "cell_type": "code",
   "execution_count": null,
   "id": "dee7ef79",
   "metadata": {},
   "outputs": [],
   "source": []
  }
 ],
 "metadata": {
  "kernelspec": {
   "display_name": "Python 3 (ipykernel)",
   "language": "python",
   "name": "python3"
  },
  "language_info": {
   "codemirror_mode": {
    "name": "ipython",
    "version": 3
   },
   "file_extension": ".py",
   "mimetype": "text/x-python",
   "name": "python",
   "nbconvert_exporter": "python",
   "pygments_lexer": "ipython3",
   "version": "3.9.13"
  }
 },
 "nbformat": 4,
 "nbformat_minor": 5
}
